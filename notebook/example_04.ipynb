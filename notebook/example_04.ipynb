{
 "cells": [
  {
   "cell_type": "markdown",
   "metadata": {},
   "source": [
    "# Iterative BME\n",
    "\n",
    "\n",
    "When dealing with SAXS data it is possible to fit the weights and the parameters in the linear regression iteratively. This can be done automatically by calling the function ibme().\n",
    "\n",
    "\n",
    "Assume $F^{(0)}_{j,i}$ are $i=1\\cdots m$ observables calculated on $j=1\\cdots N$ frames. Each frame has an initial weight $w_j^{(0)}$. For each observation, $F_{i}^{\\text{EXP}}$ is the corresponding experimental measure. \n",
    "\n",
    "The iterative BME procedure consists in the following steps:\n",
    "\n",
    "  1. Calculate ensemble average $\\langle F \\rangle^{(k)} = \\sum_{j}w_j^{(k)} F^{(k)}_{j,i}$\n",
    "  2. Perform a linear regression, and determine the optimal parameters $\\alpha^{(k)},\\beta^{(k)}  = fit(\\langle F \\rangle ^{(k)},F_j^{\\text{CALC}})$\n",
    "  3. Transform the dataset $F_{j,i}^{(k+1)} =  \\alpha^{(k)} F^{(k)}_{j,i} + \\beta^{(k)} $\n",
    "  4. Perform a BME fit and calculate the optimal parameters $w^{(k+1)} = BME(F^{(k+1)},w^{(0)}) $\n",
    "  5. Iterate over 1-4 until the procedure converges, i.e. the improvement over the optimized $\\chi^2$ drops below a tolerance value `ftol`\n",
    "  \n",
    "  "
   ]
  },
  {
   "cell_type": "code",
   "execution_count": 1,
   "metadata": {},
   "outputs": [
    {
     "name": "stdout",
     "output_type": "stream",
     "text": [
      "Iterative procedure converged below tolerance 1.51e-02 after 8 iterations\n"
     ]
    },
    {
     "data": {
      "text/plain": [
       "(4.771548811527895,\n",
       " 1.5009389226340069,\n",
       " 0.8280603406826632,\n",
       " array([[ 3.12849483e+00,  3.12623868e+00,  3.12398214e+00, ...,\n",
       "          1.22626473e-01,  1.21633926e-01,  1.20640807e-01],\n",
       "        [ 3.12849483e+00,  3.12512471e+00,  3.12175372e+00, ...,\n",
       "         -1.27495501e-02, -1.34340392e-02, -1.41188574e-02],\n",
       "        [ 3.12849483e+00,  3.12593949e+00,  3.12338365e+00, ...,\n",
       "          2.96067860e-02,  2.89424444e-02,  2.82778123e-02],\n",
       "        ...,\n",
       "        [ 3.12849483e+00,  3.12666002e+00,  3.12482534e+00, ...,\n",
       "          2.70885731e-02,  2.66546148e-02,  2.62205404e-02],\n",
       "        [ 3.12849483e+00,  3.12623914e+00,  3.12398339e+00, ...,\n",
       "          3.53471500e-03,  2.90900295e-03,  2.28300046e-03],\n",
       "        [ 3.12849483e+00,  3.12605457e+00,  3.12361381e+00, ...,\n",
       "          1.83375697e-02,  1.77428968e-02,  1.71478948e-02]]),\n",
       " array([[ 3.17573218e+00,  3.17344210e+00,  3.17115163e+00, ...,\n",
       "          1.24658706e-01,  1.23651232e-01,  1.22643177e-01],\n",
       "        [ 3.17573218e+00,  3.17231138e+00,  3.16888969e+00, ...,\n",
       "         -1.27532311e-02, -1.34480141e-02, -1.41431313e-02],\n",
       "        [ 3.17573218e+00,  3.17313841e+00,  3.17054414e+00, ...,\n",
       "          3.02401002e-02,  2.95657675e-02,  2.88911401e-02],\n",
       "        ...,\n",
       "        [ 3.17573218e+00,  3.17386978e+00,  3.17200751e+00, ...,\n",
       "          2.76840160e-02,  2.72435314e-02,  2.68029289e-02],\n",
       "        [ 3.17573218e+00,  3.17344257e+00,  3.17115290e+00, ...,\n",
       "          3.77593242e-03,  3.14081032e-03,  2.50539340e-03],\n",
       "        [ 3.17573218e+00,  3.17325523e+00,  3.17077776e+00, ...,\n",
       "          1.88014066e-02,  1.81977905e-02,  1.75938402e-02]]))"
      ]
     },
     "execution_count": 1,
     "metadata": {},
     "output_type": "execute_result"
    }
   ],
   "source": [
    "import sys,os\n",
    "import numpy as np\n",
    "bme_dir = os.getcwd().split(\"notebook\")[0]\n",
    "sys.path.append(bme_dir)\n",
    "import BME as BME\n",
    "\n",
    "# define input file names\n",
    "exp_file_1 = \"%s/data/saxs.exp.dat\" % bme_dir\n",
    "calc_file_1 = \"%s/data/calc_saxs.txt.zip\" % bme_dir\n",
    "\n",
    "#calc_saxs.txt.zip\n",
    "# initialize. A name must be specified \n",
    "rew = BME.Reweight(\"example_04\")\n",
    "\n",
    "# load the experimental and calculated datasets\n",
    "rew.load(exp_file_1,calc_file_1)\n",
    "\n",
    "rew.ibme(theta=1000,iterations=50,ftol=0.02,offset=True)"
   ]
  },
  {
   "cell_type": "code",
   "execution_count": null,
   "metadata": {},
   "outputs": [],
   "source": []
  }
 ],
 "metadata": {
  "kernelspec": {
   "display_name": "Python 3",
   "language": "python",
   "name": "python3"
  },
  "language_info": {
   "codemirror_mode": {
    "name": "ipython",
    "version": 3
   },
   "file_extension": ".py",
   "mimetype": "text/x-python",
   "name": "python",
   "nbconvert_exporter": "python",
   "pygments_lexer": "ipython3",
   "version": "3.8.8"
  }
 },
 "nbformat": 4,
 "nbformat_minor": 2
}
