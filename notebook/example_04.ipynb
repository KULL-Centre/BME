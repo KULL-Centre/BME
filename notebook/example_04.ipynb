{
 "cells": [
  {
   "cell_type": "markdown",
   "metadata": {},
   "source": [
    "# Iterative BME\n",
    "\n",
    "\n",
    "When dealing with SAXS data it is possible to fit the weights and the parameters in the linear regression iteratively. This can be done automatically by calling the function ibme().\n",
    "\n",
    "\n",
    "Assume $F^{(0)}_{j,i}$ are $i=1\\cdots m$ observables calculated on $j=1\\cdots N$ frames. Each frame has an initial weight $w_j^{(0)}$. For each observation, $F_{i}^{\\text{EXP}}$ is the corresponding experimental measure. \n",
    "\n",
    "The iterative BME procedure consists in the following steps:\n",
    "\n",
    "  1. Calculate ensemble average $\\langle F \\rangle^{(k)} = \\sum_{j}w_j^{(k)} F^{(k)}_{j,i}$\n",
    "  2. Perform a linear regression, and determine the optimal parameters $\\alpha^{(k)},\\beta^{(k)}  = fit(\\langle F \\rangle ^{(k)},F_j^{\\text{CALC}})$\n",
    "  3. Transform the dataset $F_{j,i}^{(k+1)} =  \\alpha^{(k)} F^{(k)}_{j,i} + \\beta^{(k)} $\n",
    "  4. Perform a BME fit and calculate the optimal parameters $w^{(k+1)} = BME(F^{(k+1)},w^{(0)}) $\n",
    "  5. Iterate over 1-4 until the procedure converges, i.e. the improvement over the optimized $\\chi^2$ drops below a tolerance value `ftol`\n",
    "  \n",
    "  "
   ]
  },
  {
   "cell_type": "code",
   "execution_count": 4,
   "metadata": {},
   "outputs": [
    {
     "name": "stdout",
     "output_type": "stream",
     "text": [
      "Iterative procedure converged below tolerance 1.51e-02 after 8 iterations\n",
      "Chi2 before BME 4.77155\n",
      "Chi2 after  BME 1.50094\n",
      "Fraction of effective frames 0.82806\n"
     ]
    }
   ],
   "source": [
    "import sys,os\n",
    "import numpy as np\n",
    "bme_dir = os.getcwd().split(\"notebook\")[0]\n",
    "sys.path.append(bme_dir)\n",
    "import BME as BME\n",
    "\n",
    "# define input file names\n",
    "exp_file_1 = \"%s/data/saxs.exp.dat\" % bme_dir\n",
    "calc_file_1 = \"%s/data/calc_saxs.txt.zip\" % bme_dir\n",
    "\n",
    "#calc_saxs.txt.zip\n",
    "# initialize. A name must be specified \n",
    "rew = BME.Reweight(\"example_04\")\n",
    "\n",
    "# load the experimental and calculated datasets\n",
    "rew.load(exp_file_1,calc_file_1)\n",
    "\n",
    "# call ibme function. \n",
    "#return chi2 before, after, fraction of effective frames and calculated averages before/after iterative reweighting\n",
    "chi2_before,chi2_after, phi, calc0,calc_rew = rew.ibme(theta=1000,iterations=50,ftol=0.02,offset=True)\n",
    "\n",
    "print(\"Chi2 before BME %.5f\" % chi2_before)\n",
    "print(\"Chi2 after  BME %.5f\" % chi2_after)\n",
    "print(\"Fraction of effective frames %.5f\" % phi)\n",
    "\n"
   ]
  },
  {
   "cell_type": "markdown",
   "metadata": {},
   "source": [
    "note that calculated averages and final weights are written to example_04_x.calc.dat and  example_04_x.weights.dat. Weights and statistics at each iteration can be retrieved using the functions ```rew.get_ibme_stats()``` and ```rew.get_ibme_weights()```"
   ]
  },
  {
   "cell_type": "code",
   "execution_count": null,
   "metadata": {},
   "outputs": [],
   "source": []
  }
 ],
 "metadata": {
  "kernelspec": {
   "display_name": "Python 3",
   "language": "python",
   "name": "python3"
  },
  "language_info": {
   "codemirror_mode": {
    "name": "ipython",
    "version": 3
   },
   "file_extension": ".py",
   "mimetype": "text/x-python",
   "name": "python",
   "nbconvert_exporter": "python",
   "pygments_lexer": "ipython3",
   "version": "3.8.8"
  }
 },
 "nbformat": 4,
 "nbformat_minor": 2
}
