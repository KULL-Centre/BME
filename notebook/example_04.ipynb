{
 "cells": [
  {
   "cell_type": "markdown",
   "metadata": {},
   "source": [
    "# Iterative BME\n",
    "\n",
    "\n",
    "When dealing with SAXS data it is possible to fit the weights and the parameters in the linear regression iteratively. This can be done automatically by calling the function ibme().\n",
    "\n",
    "\n",
    "Assume $F^{(0)}_{j,i}$ are $i=1\\cdots m$ observables calculated on $j=1\\cdots N$ frames. Each frame has an initial weight $w_j^{(0)}$. For each observation, $F_{i}^{\\text{EXP}}$ is the corresponding experimental measure. \n",
    "\n",
    "The iterative BME procedure consists in the following steps:\n",
    "\n",
    "  1. Calculate ensemble average $\\langle F \\rangle^{(k)} = \\sum_{j}w_j^{(k)} F^{(k)}_{j,i}$\n",
    "  2. Perform a linear regression, and determine the optimal parameters $\\alpha^{(k)},\\beta^{(k)}  = fit(\\langle F \\rangle ^{(k)},F_j^{\\text{CALC}})$\n",
    "  3. Transform the dataset $F_{j,i}^{(k+1)} =  \\alpha^{(k)} F^{(k)}_{j,i} + \\beta^{(k)} $\n",
    "  4. Perform a BME fit and calculate the optimal parameters $w^{(k+1)} = BME(F^{(k+1)},w^{(0)}) $\n",
    "  5. Iterate over 1-4 until the procedure converges, i.e. the improvement over the optimized $\\chi^2$ drops below a tolerance value `ftol`\n",
    "  \n",
    "  "
   ]
  },
  {
   "cell_type": "code",
   "execution_count": 3,
   "metadata": {},
   "outputs": [
    {
     "name": "stdout",
     "output_type": "stream",
     "text": [
      "# iterative BME\n",
      "Iteration:  0 scale:  0.9772 offset:  0.0046 chi2:  2.2967 diff:     nan\n",
      "Iteration:  1 scale:  1.0053 offset: -0.0015 chi2:  1.9519 diff: 3.4478e-01\n",
      "Iteration:  2 scale:  1.0036 offset: -0.0007 chi2:  1.7680 diff: 1.8390e-01\n",
      "Iteration:  3 scale:  1.0023 offset: -0.0002 chi2:  1.6651 diff: 1.0290e-01\n",
      "Iteration:  4 scale:  1.0016 offset:  0.0002 chi2:  1.6032 diff: 6.1960e-02\n",
      "Iteration:  5 scale:  1.0010 offset:  0.0004 chi2:  1.5636 diff: 3.9551e-02\n",
      "Iteration:  6 scale:  1.0006 offset:  0.0006 chi2:  1.5363 diff: 2.7369e-02\n",
      "Iteration:  7 scale:  1.0004 offset:  0.0007 chi2:  1.5164 diff: 1.9898e-02\n",
      "Iterative procedure converged below tolerance 1.99e-02 after 7 iterations\n",
      "Done. Initial chi2:   4.7715 Final chi2:  1.5164\n",
      "Done. Writing output files example_04_7.calc.dat example_04_7.weights.dat\n"
     ]
    },
    {
     "data": {
      "text/plain": [
       "(4.771548811527895, 1.5163548302285748, 0.8264221569927307)"
      ]
     },
     "execution_count": 3,
     "metadata": {},
     "output_type": "execute_result"
    }
   ],
   "source": [
    "import sys,os\n",
    "import numpy as np\n",
    "bme_dir = os.getcwd().split(\"notebook\")[0]\n",
    "sys.path.append(bme_dir)\n",
    "import BME as BME\n",
    "\n",
    "# define input file names\n",
    "exp_file_1 = \"%s/data/saxs.exp.dat\" % bme_dir\n",
    "calc_file_1 = \"%s/data/calc_saxs.txt.zip\" % bme_dir\n",
    "\n",
    "#calc_saxs.txt.zip\n",
    "# initialize. A name must be specified \n",
    "rew = BME.Reweight(\"example_04\")\n",
    "\n",
    "# load the experimental and calculated datasets\n",
    "rew.load(exp_file_1,calc_file_1)\n",
    "\n",
    "rew.ibme(theta=1000,iterations=50,ftol=0.02,offset=True)"
   ]
  },
  {
   "cell_type": "code",
   "execution_count": null,
   "metadata": {},
   "outputs": [],
   "source": []
  }
 ],
 "metadata": {
  "kernelspec": {
   "display_name": "Python 3",
   "language": "python",
   "name": "python3"
  },
  "language_info": {
   "codemirror_mode": {
    "name": "ipython",
    "version": 3
   },
   "file_extension": ".py",
   "mimetype": "text/x-python",
   "name": "python",
   "nbconvert_exporter": "python",
   "pygments_lexer": "ipython3",
   "version": "3.6.7"
  }
 },
 "nbformat": 4,
 "nbformat_minor": 2
}
