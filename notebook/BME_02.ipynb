{
 "cells": [
  {
   "cell_type": "markdown",
   "metadata": {},
   "source": [
    "# Theta selection #\n",
    "In the previous notebook we set the parameter $\\theta$=2 without justification. In order to optimally choose $\\theta$, it is useful to scan different values of this parameter, and plot $\\chi^2$ vs $n_{eff}$. This can be easily done using the BME script, as we show below. \n"
   ]
  },
  {
   "cell_type": "code",
   "execution_count": 10,
   "metadata": {},
   "outputs": [
    {
     "name": "stdout",
     "output_type": "stream",
     "text": [
      "# Warning: expt average 2-2H5P=0.5000     is smaller than minimum value in simulation 0.9920    \n",
      "# exp data: (26, 2)\n",
      "# calc data: (20000, 26)\n",
      "# exp data: (26, 2)\n",
      "# calc data: (20000, 26)\n",
      "# exp data: (26, 2)\n",
      "# calc data: (20000, 26)\n",
      "# exp data: (26, 2)\n",
      "# calc data: (20000, 26)\n",
      "# exp data: (26, 2)\n",
      "# calc data: (20000, 26)\n",
      "# exp data: (26, 2)\n",
      "# calc data: (20000, 26)\n",
      "# exp data: (26, 2)\n",
      "# calc data: (20000, 26)\n",
      "# exp data: (26, 2)\n",
      "# calc data: (20000, 26)\n",
      "# exp data: (26, 2)\n",
      "# calc data: (20000, 26)\n",
      "# exp data: (26, 2)\n",
      "# calc data: (20000, 26)\n",
      "# exp data: (26, 2)\n",
      "# calc data: (20000, 26)\n",
      "# exp data: (26, 2)\n",
      "# calc data: (20000, 26)\n",
      "# exp data: (26, 2)\n",
      "# calc data: (20000, 26)\n",
      "# exp data: (26, 2)\n",
      "# calc data: (20000, 26)\n",
      "# exp data: (26, 2)\n",
      "# calc data: (20000, 26)\n"
     ]
    }
   ],
   "source": [
    "# import modules\n",
    "import sys\n",
    "import os\n",
    "cwd = os.getcwd()[:-8]\n",
    "sys.path.append(cwd)\n",
    "import bme_reweight as bme\n",
    "import numpy as np\n",
    "\n",
    "exp_couplings = '../data/couplings_exp.dat'\n",
    "calc_couplings = '../data/couplings_calc.dat'\n",
    "exp_noe = '../data/noe_exp.dat'\n",
    "calc_noe = '../data/noe_calc.dat'\n",
    "\n",
    "# initialize reweighting class                                                                                                                                \n",
    "rew = bme.Reweight(verbose=False)\n",
    "# load data                                                                                      \n",
    "rew.load(exp_couplings,calc_couplings)\n",
    "\n",
    "# loop over thetas and append results to list\n",
    "thetas = [0.1,0.5,1,2,3,5,10,15,20,50,100,200,500,1000,50000]\n",
    "results = []\n",
    "for t in thetas:\n",
    "    # optimize. return chi2 for j couplings\n",
    "    chi2_before,chi2_after, srel = rew.optimize(theta=t)\n",
    "    neff = np.exp(-srel)\n",
    "    # calculate chi2 relative to NOE\n",
    "    chi2_noe_before, chi2_noe_after = rew.weight_exp(exp_noe,calc_noe,\"theta_scan_%.1f\" % t)\n",
    "    # append to list\n",
    "    results.append([neff,chi2_before,chi2_after,chi2_noe_before, chi2_noe_after])\n",
    "    "
   ]
  },
  {
   "cell_type": "code",
   "execution_count": 22,
   "metadata": {},
   "outputs": [
    {
     "data": {
      "text/plain": [
       "[<matplotlib.axis.XTick at 0x101e07a8d0>,\n",
       " <matplotlib.axis.XTick at 0x101e07af90>,\n",
       " <matplotlib.axis.XTick at 0x101e07ac50>,\n",
       " <matplotlib.axis.XTick at 0x101df42250>,\n",
       " <matplotlib.axis.XTick at 0x101df42410>]"
      ]
     },
     "execution_count": 22,
     "metadata": {},
     "output_type": "execute_result"
    },
    {
     "data": {
      "image/png": "[encoded data removed]",
      "text/plain": [
       "<Figure size 360x360 with 1 Axes>"
      ]
     },
     "metadata": {
      "needs_background": "light"
     },
     "output_type": "display_data"
    }
   ],
   "source": [
    "import matplotlib.pyplot as plt\n",
    "results = np.array(results)\n",
    "fig, ax1 = plt.subplots(figsize=(5, 5))\n",
    "ax1.plot(results[:,0],results[:,4],label=\"NOE\",c='#C1CDCD',ls=\"--\",lw=0.75,marker=\"o\")\n",
    "ax1.plot(results[:,0],results[:,2],label=\"J-couplings\",c='k',lw=0.75,ls=\"-\",marker='o')\n",
    "\n",
    "idxs1 = [0,3,6,len(thetas)-1]\n",
    "xmi,xma= ax1.get_ylim()\n",
    "for i in idxs1:\n",
    "    xx= (-xmi + results[i,2])/(xma-xmi)\n",
    "    ax1.axvline(results[i,0],ymin=xx,ls='--',c='gray',lw=0.3,zorder=0)\n",
    "    if(results[i,0]>0.99):\n",
    "        if(i==len(thetas)-1):\n",
    "            ax1.text(results[i,0],2.1,\"prior\",va='bottom',fontsize=8,ha='center',rotation=90)\n",
    "        else:\n",
    "            ax1.text(results[i,0],2.1,r\"$\\theta=%.0f$\" % thetas[i],va='bottom',fontsize=8,ha='center',rotation=90)\n",
    "    else:\n",
    "        ax1.text(results[i,0],2.1,r\"$\\theta=%.1f$\" % thetas[i],va='bottom',fontsize=8,ha='center',rotation=90)\n",
    "\n",
    "ax1.legend()\n",
    "ax1.set_ylabel(r'$\\chi^2$')\n",
    "ax1.set_xlabel(r'$N_{eff}$')\n",
    "ax1.set_xscale('log')\n",
    "ax1.set_xticks([0.01,0.1,0.2,0.5,1.0])\n"
   ]
  },
  {
   "cell_type": "markdown",
   "metadata": {},
   "source": [
    "\n",
    "\n"
   ]
  }
 ],
 "metadata": {
  "kernelspec": {
   "display_name": "Python [conda env:anaconda]",
   "language": "python",
   "name": "conda-env-anaconda-py"
  },
  "language_info": {
   "codemirror_mode": {
    "name": "ipython",
    "version": 2
   },
   "file_extension": ".py",
   "mimetype": "text/x-python",
   "name": "python",
   "nbconvert_exporter": "python",
   "pygments_lexer": "ipython2",
   "version": "2.7.14"
  }
 },
 "nbformat": 4,
 "nbformat_minor": 2
}
