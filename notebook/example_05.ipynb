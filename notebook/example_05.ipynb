{
 "cells": [
  {
   "cell_type": "markdown",
   "metadata": {},
   "source": [
    "# How to set non-uniform initial weights\n",
    "\n",
    "When running biased simulations (e.g. metadynamics or umbrella sampling), the initial weights from simulations are not uniform. The initial weights can be specified passing a list of weights when initializingthe the class `Reweight`:"
   ]
  },
  {
   "cell_type": "code",
   "execution_count": 1,
   "metadata": {},
   "outputs": [
    {
     "name": "stdout",
     "output_type": "stream",
     "text": [
      "CHI2  original:  15.77\n",
      "CHI2 optimized:   8.23\n"
     ]
    }
   ],
   "source": [
    "import sys,os\n",
    "import numpy as np\n",
    "bme_dir = os.getcwd().split(\"notebook\")[0]\n",
    "sys.path.append(bme_dir)\n",
    "import BME as BME\n",
    "\n",
    "# define input file names\n",
    "exp_file = \"%s/data/RDC_TL.exp.dat\" % bme_dir\n",
    "calc_file = \"%s/data/RDC_TL.calc.dat.zip\" % bme_dir\n",
    "weight_file = \"%s/data/w0.dat\" % bme_dir\n",
    "\n",
    "initial_weights = np.loadtxt(weight_file)[:,1]\n",
    "rew = BME.Reweight(\"example_05\",w0=initial_weights)\n",
    "\n",
    "# load the experimental and calculated datasets. These are RDC, remeber to 'scale' them \n",
    "rew.load(exp_file,calc_file,fit=\"scale\")\n",
    "results = rew.fit(theta=100)\n",
    "\n",
    "print(\"CHI2  original: %6.2f\" % results[0])\n",
    "print(\"CHI2 optimized: %6.2f\" % results[1])"
   ]
  },
  {
   "cell_type": "markdown",
   "metadata": {},
   "source": [
    "# How to adjust weights among experimental datasets\n",
    "describe here\n",
    "\n",
    "# How to load data from python arrays (and not from file)\n",
    "describe here\n",
    "\n",
    "# Pathological cases\n",
    "describe here"
   ]
  },
  {
   "cell_type": "code",
   "execution_count": null,
   "metadata": {},
   "outputs": [],
   "source": []
  }
 ],
 "metadata": {
  "kernelspec": {
   "display_name": "Python 3",
   "language": "python",
   "name": "python3"
  },
  "language_info": {
   "codemirror_mode": {
    "name": "ipython",
    "version": 3
   },
   "file_extension": ".py",
   "mimetype": "text/x-python",
   "name": "python",
   "nbconvert_exporter": "python",
   "pygments_lexer": "ipython3",
   "version": "3.6.7"
  }
 },
 "nbformat": 4,
 "nbformat_minor": 2
}
