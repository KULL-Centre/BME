{
 "cells": [
  {
   "cell_type": "markdown",
   "metadata": {},
   "source": [
    "# Example 1.0\n",
    "\n",
    "We start with a simple example that uses scalar couplings as input for the BEM reweighting procedure. In this example, we consider a simulation of an RNA tetranucleotide for which NOE and 3J scalar couplings are available.\n",
    "\n",
    "First, we import the module. It is possible to specify the location of the reweight.py script with sys.path.append.\n"
   ]
  },
  {
   "cell_type": "code",
   "execution_count": 4,
   "metadata": {},
   "outputs": [],
   "source": [
    "# import the reweighting script\n",
    "import os\n",
    "import sys\n",
    "cwd = os.getcwd()[:-8]\n",
    "sys.path.append(cwd)\n",
    "import reweight as rr"
   ]
  },
  {
   "cell_type": "markdown",
   "metadata": {},
   "source": [
    "We now define the name of the files containing the experimental data..."
   ]
  },
  {
   "cell_type": "code",
   "execution_count": 5,
   "metadata": {
    "collapsed": true
   },
   "outputs": [],
   "source": [
    "# define name of experimental datafiles\n",
    "exp_noe='../data/NOE_exp.dat'\n",
    "exp_couplings = '../data/couplings_exp.dat'"
   ]
  },
  {
   "cell_type": "markdown",
   "metadata": {},
   "source": [
    "... and of the corresponding quantities calculated from simulation\n"
   ]
  },
  {
   "cell_type": "code",
   "execution_count": 6,
   "metadata": {
    "collapsed": true
   },
   "outputs": [],
   "source": [
    "# define name of experimental quantities # calculated from the trajectory\n",
    "calc_noe='../data/NOE_calc.dat'\n",
    "calc_couplings = '../data/couplings_calc.dat'"
   ]
  },
  {
   "cell_type": "markdown",
   "metadata": {},
   "source": [
    "We now intialize the reweight class by specifying the data we use as input, in this case J couplings. At initialization,  data are only parsed. It is EXTREMELY important that experimental and calculated data are ordered correctly, i.e. that column j+1 in the calculated datafile corresponds to the experimental quantity in row i+1 "
   ]
  },
  {
   "cell_type": "code",
   "execution_count": 7,
   "metadata": {},
   "outputs": [
    {
     "name": "stdout",
     "output_type": "stream",
     "text": [
      "###### INITIALIZATION ########\n",
      "# Read 26 JCOUPLINGS experimental datapoints\n",
      "# Read 26 simulated datapoints from 20000 frames\n",
      "# Warning: expt average 2-2H5P=0.5000     is smaller than minimum value in simulation 0.9920    \n",
      "# Exp data shape  (26, 2)\n",
      "# Simulation data shape  (20000, 26)\n",
      "###### Initialization OK ########\n"
     ]
    }
   ],
   "source": [
    "# initialize reweighting class : use only couplings as input\n",
    "rew = rr.Reweight([exp_couplings],[calc_couplings])\n"
   ]
  },
  {
   "cell_type": "markdown",
   "metadata": {},
   "source": [
    "a warning is issued whenever the experimental average is smaller (larger) than the minimum (maximum) value in simulation. This may or may not be an issue depending on the experimental uncertainty. \n",
    "The minimization of the cost function is performed by calling the function optimize:"
   ]
  },
  {
   "cell_type": "code",
   "execution_count": 8,
   "metadata": {},
   "outputs": [
    {
     "name": "stdout",
     "output_type": "stream",
     "text": [
      "Initial average chi squared     1.1525, srel     0.0000 \n",
      "# Minimization successful\n",
      "Final average chi squared       0.1785, srel     0.9829 \n"
     ]
    },
    {
     "data": {
      "text/plain": [
       "0"
      ]
     },
     "execution_count": 8,
     "metadata": {},
     "output_type": "execute_result"
    }
   ],
   "source": [
    "# do optimization using theta=1\n",
    "rew.optimize(theta=2.0, method=\"MAXENT\")\n"
   ]
  },
  {
   "cell_type": "markdown",
   "metadata": {},
   "source": [
    "Here, we have set theta=2, but can be set to arbitrary values. By default, method=\"MAXENT\" is used, meaning that the new weights are obtained by minimizing the maxent cost function (Eq. 6). It is also possible to use method=\"BER\", so that Eq.7 is minimized instead. The results of the two minimization are identical (except for theta=0), but the BER is in general much slower, since the minimization is performed in n=20000 dimension. In the current implementation, the use of BER is in practice limited to ~1000 frames.\n",
    "\n",
    "Now that the optimization is done, the new weights can be used to calculate any quantity of interest. First, we check that the agreement with the input data is improved, as expected. \n"
   ]
  },
  {
   "cell_type": "code",
   "execution_count": 9,
   "metadata": {},
   "outputs": [
    {
     "name": "stdout",
     "output_type": "stream",
     "text": [
      "# Read 26 JCOUPLINGS experimental datapoints\n",
      "# Read 26 simulated datapoints from 20000 frames\n"
     ]
    }
   ],
   "source": [
    "rew.weight_exp([exp_couplings],[calc_couplings] , 'example1.1')\n"
   ]
  },
  {
   "cell_type": "markdown",
   "metadata": {},
   "source": [
    "\n",
    "The function weight_exp calculates the new weighted averages and outputs two files: example1.1.stats.dat and example1.1.weights.dat. Let's plot the first one "
   ]
  },
  {
   "cell_type": "code",
   "execution_count": 63,
   "metadata": {},
   "outputs": [
    {
     "data": {
      "image/png": "[encoded data removed]",
      "text/plain": [
       "<matplotlib.figure.Figure at 0x1a1c844590>"
      ]
     },
     "metadata": {},
     "output_type": "display_data"
    }
   ],
   "source": [
    "%matplotlib inline\n",
    "# import numpy, matplotlib and seaborn\n",
    "import numpy as np\n",
    "import matplotlib.pyplot as plt\n",
    "import seaborn as sns\n",
    "\n",
    "# define some colors\n",
    "sns.set_style(\"white\")\n",
    "sns.set_context(\"paper\")\n",
    "c1 = sns.xkcd_rgb[\"grey\"]\n",
    "c2 = sns.xkcd_rgb[\"pale red\"]\n",
    "c3 = sns.xkcd_rgb[\"denim blue\"]\n",
    "ff = \"s\"\n",
    "\n",
    "# read data\n",
    "data = []\n",
    "labels = []\n",
    "for line in open(\"example1.1.stats.dat\"):\n",
    "    if(\"#\" in line): continue\n",
    "    labels.append(line.split()[0])\n",
    "    data.append([float(x) for x in line.split()[1:]])\n",
    "data = np.array(data)\n",
    "\n",
    "\n",
    "xx = np.arange(data.shape[0])\n",
    "# sort to make it nicer\n",
    "idxs = np.argsort(data[:,0])\n",
    "new_labels = [labels[i] for i in idxs]\n",
    "\n",
    "fig, ax1 = plt.subplots()\n",
    "ax1.set_ylabel(\"J couplings (Hz)\")\n",
    "ax1.set_xlabel(\"Index\")\n",
    "\n",
    "ax1.errorbar(xx,data[idxs,0],yerr=data[idxs,1],c=c1,fmt=ff,markersize=4,label=\"EXP\")\n",
    "ax1.scatter(xx,data[idxs,2],marker=ff,c=c2,s=15,alpha=0.8,label=\"no reweight\")\n",
    "ax1.scatter(xx,data[idxs,3],marker=ff,c=c3,s=15,alpha=0.8,label=\"reweighted\")\n",
    "\n",
    "plt.xticks(xx,new_labels,rotation=90)\n",
    "\n",
    "ax1.legend()\n",
    "\n",
    "plt.show()\n",
    "\n",
    "# plot lagrange multipliers\n",
    "#lambdas = np.array([float(line.split()[1]) for line in open(\"lambda.dat\") if \"#\" not in line])\n",
    "#ax2 = ax1.twinx()\n",
    "#ax2.scatter(xx,lambdas[idxs]/data[idxs,0],c='g')\n",
    "#ax2.set_ylim(-0.3,0.3)\n"
   ]
  },
  {
   "cell_type": "markdown",
   "metadata": {},
   "source": [
    "Since we also have NOE data, we can check whether the new weights, obtained by matching scalar couplings, improve the agreement with NOEs as well. Again, we call the function  reweight_exp"
   ]
  },
  {
   "cell_type": "code",
   "execution_count": 65,
   "metadata": {},
   "outputs": [
    {
     "name": "stdout",
     "output_type": "stream",
     "text": [
      "# File example1.2.stats.dat already exists. \n",
      "Overwrite? (y/n) y\n",
      "# Read 27 NOE experimental datapoints\n",
      "# Read 27 simulated datapoints from 20000 frames\n"
     ]
    },
    {
     "data": {
      "image/png": "[encoded data removed]",
      "text/plain": [
       "<matplotlib.figure.Figure at 0x1a1c844610>"
      ]
     },
     "metadata": {},
     "output_type": "display_data"
    }
   ],
   "source": [
    "rew.weight_exp([exp_noe],[calc_noe] , 'example1.2')\n",
    "# read data\n",
    "data = []\n",
    "labels = []\n",
    "for line in open(\"example1.2.stats.dat\"):\n",
    "    if(\"#\" in line): continue\n",
    "    labels.append(line.split()[0])\n",
    "    data.append([float(x) for x in line.split()[1:]])\n",
    "data = np.array(data)\n",
    "\n",
    "\n",
    "xx = np.arange(data.shape[0])\n",
    "# sort to make it nicer\n",
    "idxs = np.argsort(data[:,0])\n",
    "new_labels = [labels[i] for i in idxs]\n",
    "\n",
    "fig, ax1 = plt.subplots()\n",
    "ax1.set_ylabel(\"NOE distance($\\AA$)\")\n",
    "ax1.set_xlabel(\"Index\")\n",
    "\n",
    "ax1.errorbar(xx,data[idxs,0],yerr=data[idxs,1],c=c1,fmt=ff,markersize=4,label=\"EXP\")\n",
    "ax1.scatter(xx,data[idxs,2],marker=ff,c=c2,s=15,alpha=0.8,label=\"no reweight\")\n",
    "ax1.scatter(xx,data[idxs,3],marker=ff,c=c3,s=15,alpha=0.8,label=\"reweighted\")\n",
    "\n",
    "plt.xticks(xx,new_labels,rotation=90)\n",
    "\n",
    "ax1.legend()\n",
    "\n",
    "plt.show()\n"
   ]
  },
  {
   "cell_type": "markdown",
   "metadata": {},
   "source": [
    "It is also possible to use the weights before and after optimization, to understand what is the effect of reweighting.  We first plot the weight themselves. If many weights are zero, and only a few are non-zero, it might be a sign of incomplete sampling, or inaccurate force-field. \n"
   ]
  },
  {
   "cell_type": "code",
   "execution_count": null,
   "metadata": {
    "collapsed": true
   },
   "outputs": [],
   "source": [
    "weights = np.array([[float(x) for x in line.split()] for line in open(\"example1.1.weights.dat\") if \"#\" not in line])\n",
    "xx1 = np.arange(weights.shape[0])\n",
    "ss = np.argsort(weights[:,1])\n",
    "plt.scatter(xx1,weights[ss,1])\n",
    "# draw horizontal line showing value of the initial weights (all identical in this case)\n",
    "plt.axhline(weights[0,0],c='k')\n",
    "plt.ylabel(\"weight\")\n",
    "plt.xlabel(\"index\")\n",
    "\n",
    "plt.ylim(0,np.max(weights))\n",
    "plt.show()"
   ]
  },
  {
   "cell_type": "markdown",
   "metadata": {},
   "source": [
    "The weights can be used to calculate distributions of any quantity. As an example, we read from a file the distance from a reference structure (A-form)\n"
   ]
  },
  {
   "cell_type": "code",
   "execution_count": 71,
   "metadata": {},
   "outputs": [
    {
     "data": {
      "image/png": "[encoded data removed]",
      "text/plain": [
       "<matplotlib.figure.Figure at 0x1a1c36add0>"
      ]
     },
     "metadata": {},
     "output_type": "display_data"
    }
   ],
   "source": [
    "data = np.array([float(line.split()[1]) for line in open(\"../data/ermsd.opc.dat\") if \"#\" not in line])\n",
    "plt.ylabel(\"probability\")\n",
    "plt.xlabel(\"eRMSD from A-form\")\n",
    "bins = np.linspace(0,2,65)\n",
    "hh_0, ee_0 = np.histogram(data,normed=True,bins=bins)\n",
    "hh_star, ee_1 = np.histogram(data,normed=True,bins=bins,weights=weights[:,1]) \n",
    "xx = 0.5*(ee_0[1:]+ee_0[:-1])\n",
    "plt.plot(xx,hh_0,color=c2,label=\"no reweight\")\n",
    "plt.plot(xx,hh_star,color=c3,label=\"reweight\")\n",
    "plt.legend()\n",
    "plt.show()"
   ]
  },
  {
   "cell_type": "code",
   "execution_count": null,
   "metadata": {
    "collapsed": true
   },
   "outputs": [],
   "source": []
  }
 ],
 "metadata": {
  "kernelspec": {
   "display_name": "Python [conda env:anaconda]",
   "language": "python",
   "name": "conda-env-anaconda-py"
  },
  "language_info": {
   "codemirror_mode": {
    "name": "ipython",
    "version": 2
   },
   "file_extension": ".py",
   "mimetype": "text/x-python",
   "name": "python",
   "nbconvert_exporter": "python",
   "pygments_lexer": "ipython2",
   "version": "2.7.13"
  }
 },
 "nbformat": 4,
 "nbformat_minor": 2
}
